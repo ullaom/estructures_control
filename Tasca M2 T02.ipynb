{
 "cells": [
  {
   "cell_type": "markdown",
   "metadata": {},
   "source": [
    "# Exercici 1"
   ]
  },
  {
   "cell_type": "markdown",
   "metadata": {},
   "source": [
    "L'exercici consisteix a crear un programa que et classifiqui una variable numèrica en funció de l’escala Suspès/Aprovat/Notable/Excel·lent.\n",
    "\n",
    "Recorda que Suspès < 5, Aprovat > 5 i < 7, Notable > 7 i < 9 i Excel·lent > 9."
   ]
  },
  {
   "cell_type": "code",
   "execution_count": 4,
   "metadata": {},
   "outputs": [
    {
     "name": "stdout",
     "output_type": "stream",
     "text": [
      "Introdueix una nota: 9.5\n",
      "Excelent\n"
     ]
    }
   ],
   "source": [
    "nota = float(input(\"Introdueix una nota: \"))\n",
    "\n",
    "if nota >= 0 and nota < 5:\n",
    "    print(\"Suspès\")\n",
    "elif nota >= 5 and nota < 7:\n",
    "    print(\"Aprovat\")\n",
    "elif nota >= 7 and nota < 9:\n",
    "    print(\"Notable\")\n",
    "\n",
    "elif nota >=9 and nota <=10 :\n",
    "    print(\"Excelent\") \n",
    "    \n",
    "else:\n",
    "    print (\"La nota ha de ser entre 0 i 10\")"
   ]
  },
  {
   "cell_type": "markdown",
   "metadata": {},
   "source": [
    "# Exercici 2\n"
   ]
  },
  {
   "cell_type": "markdown",
   "metadata": {},
   "source": [
    " Crea un programa que et pregunti dos números. T’ha de mostrar un missatge dient si el primer és més gran, el segon és més gran o són iguals."
   ]
  },
  {
   "cell_type": "code",
   "execution_count": 6,
   "metadata": {},
   "outputs": [
    {
     "name": "stdout",
     "output_type": "stream",
     "text": [
      "Quin és el primer número?56.88734\n",
      "Quin és el segon número?542.983\n",
      "El segon número és més gran.\n"
     ]
    }
   ],
   "source": [
    "x = float(input(\"Quin és el primer número?\")) \n",
    "y = float(input(\"Quin és el segon número?\"))\n",
    "if x>y:\n",
    "    print('El primer número és més gran.')\n",
    "elif x<y:\n",
    "    print('El segon número és més gran.')\n",
    "else:\n",
    "    print('Els dos números són iguals.')"
   ]
  },
  {
   "cell_type": "markdown",
   "metadata": {},
   "source": [
    "# Exercici 3\n"
   ]
  },
  {
   "cell_type": "markdown",
   "metadata": {},
   "source": [
    "Crea un programa que et pregunti el teu nom, i et demani un número. Si el número és 0, hauria de mostrar un missatge d’error. En cas contrari, hauria de mostrar el nom repetit tants cops com indiqui el número. Per exemple, “Joan Joan Joan”."
   ]
  },
  {
   "cell_type": "code",
   "execution_count": 37,
   "metadata": {},
   "outputs": [
    {
     "name": "stdout",
     "output_type": "stream",
     "text": [
      "Introdueix el teu nom: Ulla\n",
      "Introdueix un número: 0\n",
      "Error!!!!\n"
     ]
    }
   ],
   "source": [
    "x = input(\"Introdueix el teu nom: \")\n",
    "y = int(input(\"Introdueix un número: \"))\n",
    "if y == 0:\n",
    "     print(\"Error!!!!\")\n",
    "else:\n",
    "    for i in range(y):\n",
    "        print(x)\n",
    "\n",
    "   "
   ]
  },
  {
   "cell_type": "markdown",
   "metadata": {},
   "source": [
    "# Exercici 4\n"
   ]
  },
  {
   "cell_type": "markdown",
   "metadata": {},
   "source": [
    "Crea un programa que donada una llista qualsevol, et digui si és simètrica o no. Si ho és, que et digui quants elements té."
   ]
  },
  {
   "cell_type": "code",
   "execution_count": 45,
   "metadata": {},
   "outputs": [
    {
     "name": "stdout",
     "output_type": "stream",
     "text": [
      "És simètrica i té 5 elements\n"
     ]
    }
   ],
   "source": [
    "llista=(1,2,3,2,1)\n",
    "\n",
    "\n",
    "reversed_llista = llista\n",
    "llista = list(llista)\n",
    "reversed_llista = list(reversed_llista)\n",
    "reversed_llista.reverse()\n",
    "if llista == reversed_llista:\n",
    "    print(\"És simètrica i té\",len(llista),\"elements\")\n",
    "    \n",
    "else:\n",
    "    print(\"No és simètrica\")\n",
    "    \n"
   ]
  },
  {
   "cell_type": "markdown",
   "metadata": {},
   "source": [
    "#  Exercici 5"
   ]
  },
  {
   "cell_type": "markdown",
   "metadata": {},
   "source": [
    "Crea un programa que donada una llista, et digui quants números coincideixen amb la seva posició"
   ]
  },
  {
   "cell_type": "code",
   "execution_count": 39,
   "metadata": {},
   "outputs": [
    {
     "name": "stdout",
     "output_type": "stream",
     "text": [
      "2 posició 2\n",
      "6 posició 6\n"
     ]
    }
   ],
   "source": [
    "llista = [3,4,2,0,2,3,6]\n",
    "for index, char in enumerate(llista) :\n",
    "    if index==char:\n",
    "        print( char, \"posició\", index )"
   ]
  },
  {
   "cell_type": "code",
   "execution_count": null,
   "metadata": {},
   "outputs": [],
   "source": []
  }
 ],
 "metadata": {
  "kernelspec": {
   "display_name": "Python 3",
   "language": "python",
   "name": "python3"
  },
  "language_info": {
   "codemirror_mode": {
    "name": "ipython",
    "version": 3
   },
   "file_extension": ".py",
   "mimetype": "text/x-python",
   "name": "python",
   "nbconvert_exporter": "python",
   "pygments_lexer": "ipython3",
   "version": "3.8.5"
  },
  "latex_envs": {
   "LaTeX_envs_menu_present": true,
   "autoclose": false,
   "autocomplete": true,
   "bibliofile": "biblio.bib",
   "cite_by": "apalike",
   "current_citInitial": 1,
   "eqLabelWithNumbers": true,
   "eqNumInitial": 1,
   "hotkeys": {
    "equation": "Ctrl-E",
    "itemize": "Ctrl-I"
   },
   "labels_anchors": false,
   "latex_user_defs": false,
   "report_style_numbering": false,
   "user_envs_cfg": false
  },
  "nbTranslate": {
   "displayLangs": [
    "*"
   ],
   "hotkey": "alt-t",
   "langInMainMenu": true,
   "sourceLang": "en",
   "targetLang": "fr",
   "useGoogleTranslate": true
  }
 },
 "nbformat": 4,
 "nbformat_minor": 4
}
